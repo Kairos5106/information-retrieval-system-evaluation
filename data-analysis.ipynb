{
 "cells": [
  {
   "cell_type": "markdown",
   "id": "d910359d",
   "metadata": {},
   "source": [
    "# QREL Data Analysis"
   ]
  },
  {
   "cell_type": "markdown",
   "id": "a495f1e3",
   "metadata": {},
   "source": [
    "## Instructions\n",
    "\n",
    "To properly use this notebook, refer to the readme.md file in the root folder"
   ]
  },
  {
   "cell_type": "markdown",
   "id": "ff017f4b",
   "metadata": {},
   "source": [
    "## Project Setup\n"
   ]
  },
  {
   "cell_type": "markdown",
   "id": "523014f8",
   "metadata": {},
   "source": [
    "### Project imports"
   ]
  },
  {
   "cell_type": "code",
   "execution_count": 603,
   "id": "cbede400",
   "metadata": {},
   "outputs": [],
   "source": [
    "# Importing popular data science libraries\n",
    "import pandas as pd # for data manipulation and analysis\n",
    "import numpy as np #  for working with arrays - has functions working with linear algebra, fourier transform and matrices\n",
    "import matplotlib.pyplot as plt # creating static, animated and interactive visualizations in Python\n",
    "import seaborn as sns # provides high-level interface for drawing attractive and informative statistical graphics\n",
    "\n",
    "# Miscallaneous imports\n",
    "import os # for file loading"
   ]
  },
  {
   "cell_type": "code",
   "execution_count": 604,
   "id": "ce1ff8ad",
   "metadata": {},
   "outputs": [
    {
     "name": "stdout",
     "output_type": "stream",
     "text": [
      "The current folder path is: /Users/kevinhtw/Documents/UM-BCS/SEM 6/WIE2005:WIE3004 Information Retrieval and Web Search/data-analysis\n"
     ]
    }
   ],
   "source": [
    "# To get your current path\n",
    "current_folder = os.getcwd()\n",
    "\n",
    "print(f\"The current folder path is: {current_folder}\")"
   ]
  },
  {
   "cell_type": "markdown",
   "id": "99f5e258",
   "metadata": {},
   "source": [
    "### Loading data"
   ]
  },
  {
   "cell_type": "code",
   "execution_count": null,
   "id": "8e01d6b7",
   "metadata": {},
   "outputs": [
    {
     "name": "stdout",
     "output_type": "stream",
     "text": [
      "Input files path: /Users/kevinhtw/Documents/UM-BCS/SEM 6/WIE2005:WIE3004 Information Retrieval and Web Search/data-analysis/input\n",
      "Number of files found: 15\n",
      "Path has files? >> True \n",
      "['input.ok8amxc', 'input.plt8ah1', 'input.GE8MTD2', 'input.apl8c221.apl8c221', 'input.Scai8Adhoc', 'input.isa25t', 'input.ric8dpn', 'input.UB99T', 'input.1.1', 'input.Flab8ax', 'input.mds08a2', 'input.iit99au1', 'input.Dm8Nbn', 'input.att99ate', 'input.MITSLStd']\n",
      "\n",
      "QREL file path: /Users/kevinhtw/Documents/UM-BCS/SEM 6/WIE2005:WIE3004 Information Retrieval and Web Search/data-analysis/qrels.trec8.adhoc\n",
      "QREL file found? >> True\n"
     ]
    }
   ],
   "source": [
    "# Set the paths to your own folder here\n",
    "input_files_folder_path = current_folder + \"/input\"\n",
    "\n",
    "qrel_file_name = \"qrels.trec8.adhoc\" # change this according to your QREL file name\n",
    "qrel_file_path = current_folder + \"/\" + qrel_file_name\n",
    "\n",
    "# For debugging, ignore\n",
    "print(f\"Input files path: {input_files_folder_path}\")\n",
    "print(f\"Number of files found: {len(os.listdir(input_files_folder_path))}\")\n",
    "print(f\"Path has files? >> {os.path.exists(input_files_folder_path)} \\n{os.listdir(input_files_folder_path)}\")\n",
    "\n",
    "print(f\"\\nQREL file path: {qrel_file_path}\")\n",
    "print(f\"QREL file found? >> {os.path.isfile(qrel_file_path)}\")"
   ]
  },
  {
   "cell_type": "markdown",
   "id": "a01921d3",
   "metadata": {},
   "source": [
    "#### Loading input data"
   ]
  },
  {
   "cell_type": "code",
   "execution_count": 606,
   "id": "8dfb3970",
   "metadata": {},
   "outputs": [
    {
     "data": {
      "text/html": [
       "<div>\n",
       "<style scoped>\n",
       "    .dataframe tbody tr th:only-of-type {\n",
       "        vertical-align: middle;\n",
       "    }\n",
       "\n",
       "    .dataframe tbody tr th {\n",
       "        vertical-align: top;\n",
       "    }\n",
       "\n",
       "    .dataframe thead th {\n",
       "        text-align: right;\n",
       "    }\n",
       "</style>\n",
       "<table border=\"1\" class=\"dataframe\">\n",
       "  <thead>\n",
       "    <tr style=\"text-align: right;\">\n",
       "      <th></th>\n",
       "      <th>query_id</th>\n",
       "      <th>placeholder</th>\n",
       "      <th>doc_id</th>\n",
       "      <th>rank</th>\n",
       "      <th>score</th>\n",
       "      <th>input_file</th>\n",
       "    </tr>\n",
       "  </thead>\n",
       "  <tbody>\n",
       "    <tr>\n",
       "      <th>0</th>\n",
       "      <td>401</td>\n",
       "      <td>Q0</td>\n",
       "      <td>FBIS4-18182</td>\n",
       "      <td>0</td>\n",
       "      <td>3.590320</td>\n",
       "      <td>ok8amxc</td>\n",
       "    </tr>\n",
       "    <tr>\n",
       "      <th>1</th>\n",
       "      <td>401</td>\n",
       "      <td>Q0</td>\n",
       "      <td>FBIS3-18916</td>\n",
       "      <td>1</td>\n",
       "      <td>3.449360</td>\n",
       "      <td>ok8amxc</td>\n",
       "    </tr>\n",
       "    <tr>\n",
       "      <th>2</th>\n",
       "      <td>401</td>\n",
       "      <td>Q0</td>\n",
       "      <td>FBIS3-18833</td>\n",
       "      <td>2</td>\n",
       "      <td>3.408860</td>\n",
       "      <td>ok8amxc</td>\n",
       "    </tr>\n",
       "    <tr>\n",
       "      <th>3</th>\n",
       "      <td>401</td>\n",
       "      <td>Q0</td>\n",
       "      <td>FBIS3-39117</td>\n",
       "      <td>3</td>\n",
       "      <td>3.253320</td>\n",
       "      <td>ok8amxc</td>\n",
       "    </tr>\n",
       "    <tr>\n",
       "      <th>4</th>\n",
       "      <td>401</td>\n",
       "      <td>Q0</td>\n",
       "      <td>FBIS3-17077</td>\n",
       "      <td>4</td>\n",
       "      <td>3.154300</td>\n",
       "      <td>ok8amxc</td>\n",
       "    </tr>\n",
       "    <tr>\n",
       "      <th>...</th>\n",
       "      <td>...</td>\n",
       "      <td>...</td>\n",
       "      <td>...</td>\n",
       "      <td>...</td>\n",
       "      <td>...</td>\n",
       "      <td>...</td>\n",
       "    </tr>\n",
       "    <tr>\n",
       "      <th>724607</th>\n",
       "      <td>450</td>\n",
       "      <td>Q0</td>\n",
       "      <td>FT933-6066</td>\n",
       "      <td>996</td>\n",
       "      <td>-0.356903</td>\n",
       "      <td>MITSLStd</td>\n",
       "    </tr>\n",
       "    <tr>\n",
       "      <th>724608</th>\n",
       "      <td>450</td>\n",
       "      <td>Q0</td>\n",
       "      <td>FBIS4-6814</td>\n",
       "      <td>997</td>\n",
       "      <td>-0.356962</td>\n",
       "      <td>MITSLStd</td>\n",
       "    </tr>\n",
       "    <tr>\n",
       "      <th>724609</th>\n",
       "      <td>450</td>\n",
       "      <td>Q0</td>\n",
       "      <td>LA121190-0027</td>\n",
       "      <td>998</td>\n",
       "      <td>-0.358896</td>\n",
       "      <td>MITSLStd</td>\n",
       "    </tr>\n",
       "    <tr>\n",
       "      <th>724610</th>\n",
       "      <td>450</td>\n",
       "      <td>Q0</td>\n",
       "      <td>FBIS4-51493</td>\n",
       "      <td>999</td>\n",
       "      <td>-0.358901</td>\n",
       "      <td>MITSLStd</td>\n",
       "    </tr>\n",
       "    <tr>\n",
       "      <th>724611</th>\n",
       "      <td>450</td>\n",
       "      <td>Q0</td>\n",
       "      <td>FBIS3-13615</td>\n",
       "      <td>1000</td>\n",
       "      <td>-0.359180</td>\n",
       "      <td>MITSLStd</td>\n",
       "    </tr>\n",
       "  </tbody>\n",
       "</table>\n",
       "<p>724612 rows × 6 columns</p>\n",
       "</div>"
      ],
      "text/plain": [
       "        query_id placeholder         doc_id  rank     score input_file\n",
       "0            401          Q0    FBIS4-18182     0  3.590320    ok8amxc\n",
       "1            401          Q0    FBIS3-18916     1  3.449360    ok8amxc\n",
       "2            401          Q0    FBIS3-18833     2  3.408860    ok8amxc\n",
       "3            401          Q0    FBIS3-39117     3  3.253320    ok8amxc\n",
       "4            401          Q0    FBIS3-17077     4  3.154300    ok8amxc\n",
       "...          ...         ...            ...   ...       ...        ...\n",
       "724607       450          Q0     FT933-6066   996 -0.356903   MITSLStd\n",
       "724608       450          Q0     FBIS4-6814   997 -0.356962   MITSLStd\n",
       "724609       450          Q0  LA121190-0027   998 -0.358896   MITSLStd\n",
       "724610       450          Q0    FBIS4-51493   999 -0.358901   MITSLStd\n",
       "724611       450          Q0    FBIS3-13615  1000 -0.359180   MITSLStd\n",
       "\n",
       "[724612 rows x 6 columns]"
      ]
     },
     "execution_count": 606,
     "metadata": {},
     "output_type": "execute_result"
    }
   ],
   "source": [
    "dataset = pd.DataFrame()\n",
    "input_files = os.listdir(input_files_folder_path)\n",
    "input_file_cols = ['query_id', 'placeholder', 'doc_id', 'rank', 'score', 'input_file']\n",
    "\n",
    "for input_file in input_files:\n",
    "    input_file_path = os.path.join(input_files_folder_path, input_file)\n",
    "    df = pd.read_csv(\n",
    "        input_file_path, \n",
    "        sep='\\t',  # tab-separated\n",
    "        header=None, \n",
    "        names=input_file_cols\n",
    "    )\n",
    "    df['input_file'] = str(input_file).replace('input.', '').strip()  # Add correct file name as a column\n",
    "    dataset = pd.concat([dataset, df], ignore_index=True)\n",
    "\n",
    "dataset"
   ]
  },
  {
   "cell_type": "markdown",
   "id": "613632a4",
   "metadata": {},
   "source": [
    "#### Loading QREL data"
   ]
  },
  {
   "cell_type": "code",
   "execution_count": 607,
   "id": "679d5b8a",
   "metadata": {},
   "outputs": [
    {
     "data": {
      "text/html": [
       "<div>\n",
       "<style scoped>\n",
       "    .dataframe tbody tr th:only-of-type {\n",
       "        vertical-align: middle;\n",
       "    }\n",
       "\n",
       "    .dataframe tbody tr th {\n",
       "        vertical-align: top;\n",
       "    }\n",
       "\n",
       "    .dataframe thead th {\n",
       "        text-align: right;\n",
       "    }\n",
       "</style>\n",
       "<table border=\"1\" class=\"dataframe\">\n",
       "  <thead>\n",
       "    <tr style=\"text-align: right;\">\n",
       "      <th></th>\n",
       "      <th>query_id</th>\n",
       "      <th>placeholder</th>\n",
       "      <th>doc_id</th>\n",
       "      <th>relevance</th>\n",
       "    </tr>\n",
       "  </thead>\n",
       "  <tbody>\n",
       "    <tr>\n",
       "      <th>0</th>\n",
       "      <td>401</td>\n",
       "      <td>0</td>\n",
       "      <td>FBIS3-10009</td>\n",
       "      <td>0</td>\n",
       "    </tr>\n",
       "    <tr>\n",
       "      <th>1</th>\n",
       "      <td>401</td>\n",
       "      <td>0</td>\n",
       "      <td>FBIS3-10059</td>\n",
       "      <td>0</td>\n",
       "    </tr>\n",
       "    <tr>\n",
       "      <th>2</th>\n",
       "      <td>401</td>\n",
       "      <td>0</td>\n",
       "      <td>FBIS3-10142</td>\n",
       "      <td>0</td>\n",
       "    </tr>\n",
       "    <tr>\n",
       "      <th>3</th>\n",
       "      <td>401</td>\n",
       "      <td>0</td>\n",
       "      <td>FBIS3-1026</td>\n",
       "      <td>0</td>\n",
       "    </tr>\n",
       "    <tr>\n",
       "      <th>4</th>\n",
       "      <td>401</td>\n",
       "      <td>0</td>\n",
       "      <td>FBIS3-10502</td>\n",
       "      <td>0</td>\n",
       "    </tr>\n",
       "    <tr>\n",
       "      <th>...</th>\n",
       "      <td>...</td>\n",
       "      <td>...</td>\n",
       "      <td>...</td>\n",
       "      <td>...</td>\n",
       "    </tr>\n",
       "    <tr>\n",
       "      <th>86825</th>\n",
       "      <td>450</td>\n",
       "      <td>0</td>\n",
       "      <td>LA123090-0138</td>\n",
       "      <td>0</td>\n",
       "    </tr>\n",
       "    <tr>\n",
       "      <th>86826</th>\n",
       "      <td>450</td>\n",
       "      <td>0</td>\n",
       "      <td>LA123090-0146</td>\n",
       "      <td>0</td>\n",
       "    </tr>\n",
       "    <tr>\n",
       "      <th>86827</th>\n",
       "      <td>450</td>\n",
       "      <td>0</td>\n",
       "      <td>LA123090-0176</td>\n",
       "      <td>0</td>\n",
       "    </tr>\n",
       "    <tr>\n",
       "      <th>86828</th>\n",
       "      <td>450</td>\n",
       "      <td>0</td>\n",
       "      <td>LA123090-0195</td>\n",
       "      <td>0</td>\n",
       "    </tr>\n",
       "    <tr>\n",
       "      <th>86829</th>\n",
       "      <td>450</td>\n",
       "      <td>0</td>\n",
       "      <td>LA123190-0061</td>\n",
       "      <td>0</td>\n",
       "    </tr>\n",
       "  </tbody>\n",
       "</table>\n",
       "<p>86830 rows × 4 columns</p>\n",
       "</div>"
      ],
      "text/plain": [
       "       query_id  placeholder         doc_id  relevance\n",
       "0           401            0    FBIS3-10009          0\n",
       "1           401            0    FBIS3-10059          0\n",
       "2           401            0    FBIS3-10142          0\n",
       "3           401            0     FBIS3-1026          0\n",
       "4           401            0    FBIS3-10502          0\n",
       "...         ...          ...            ...        ...\n",
       "86825       450            0  LA123090-0138          0\n",
       "86826       450            0  LA123090-0146          0\n",
       "86827       450            0  LA123090-0176          0\n",
       "86828       450            0  LA123090-0195          0\n",
       "86829       450            0  LA123190-0061          0\n",
       "\n",
       "[86830 rows x 4 columns]"
      ]
     },
     "execution_count": 607,
     "metadata": {},
     "output_type": "execute_result"
    }
   ],
   "source": [
    "# Getting data from QREL file\n",
    "qrel_file_cols = [\n",
    "  'query_id', 'placeholder', 'doc_id', 'relevance' \n",
    "]\n",
    "\n",
    "qrel = pd.read_csv(\n",
    "  qrel_file_path,\n",
    "  sep=r'\\s+', # qrel file uses whitespaces as delimiter\n",
    "  names=qrel_file_cols,\n",
    "  header=None\n",
    ")\n",
    "\n",
    "qrel # preview the qrel file"
   ]
  },
  {
   "cell_type": "markdown",
   "id": "529140fb",
   "metadata": {},
   "source": [
    "## Exploratory Data Analysis & Data Cleaning"
   ]
  },
  {
   "cell_type": "markdown",
   "id": "fbdbfcc7",
   "metadata": {},
   "source": [
    "### Input files"
   ]
  },
  {
   "cell_type": "markdown",
   "id": "e621b99d",
   "metadata": {},
   "source": [
    "Here, we check for any missing data and to find out the general trends of our input files dataset"
   ]
  },
  {
   "cell_type": "code",
   "execution_count": 608,
   "id": "4381a0fe",
   "metadata": {},
   "outputs": [
    {
     "name": "stdout",
     "output_type": "stream",
     "text": [
      "   query_id placeholder       doc_id  rank    score input_file\n",
      "0       401          Q0  FBIS4-18182     0  3.59032    ok8amxc\n",
      "1       401          Q0  FBIS3-18916     1  3.44936    ok8amxc\n",
      "2       401          Q0  FBIS3-18833     2  3.40886    ok8amxc\n",
      "3       401          Q0  FBIS3-39117     3  3.25332    ok8amxc\n",
      "4       401          Q0  FBIS3-17077     4  3.15430    ok8amxc\n",
      "   query_id       doc_id  rank    score input_file\n",
      "0       401  FBIS4-18182     0  3.59032    ok8amxc\n",
      "1       401  FBIS3-18916     1  3.44936    ok8amxc\n",
      "2       401  FBIS3-18833     2  3.40886    ok8amxc\n",
      "3       401  FBIS3-39117     3  3.25332    ok8amxc\n",
      "4       401  FBIS3-17077     4  3.15430    ok8amxc\n"
     ]
    }
   ],
   "source": [
    "print(dataset.head()) # before\n",
    "dataset.drop(columns='placeholder', inplace=True)\n",
    "print(dataset.head()) # after"
   ]
  },
  {
   "cell_type": "code",
   "execution_count": 609,
   "id": "417bb930",
   "metadata": {},
   "outputs": [
    {
     "name": "stdout",
     "output_type": "stream",
     "text": [
      "<class 'pandas.core.frame.DataFrame'>\n",
      "RangeIndex: 724612 entries, 0 to 724611\n",
      "Data columns (total 5 columns):\n",
      " #   Column      Non-Null Count   Dtype  \n",
      "---  ------      --------------   -----  \n",
      " 0   query_id    724612 non-null  int64  \n",
      " 1   doc_id      724612 non-null  object \n",
      " 2   rank        724612 non-null  int64  \n",
      " 3   score       724612 non-null  float64\n",
      " 4   input_file  724612 non-null  object \n",
      "dtypes: float64(1), int64(2), object(2)\n",
      "memory usage: 27.6+ MB\n"
     ]
    }
   ],
   "source": [
    "dataset.info()"
   ]
  },
  {
   "cell_type": "markdown",
   "id": "7a2f2e18",
   "metadata": {},
   "source": [
    "Turns out that the doc_id and input_file columns are somehow of the type 'object'. Let's fix that"
   ]
  },
  {
   "cell_type": "code",
   "execution_count": 610,
   "id": "83013956",
   "metadata": {},
   "outputs": [],
   "source": [
    "dataset['query_id'] = dataset['query_id'].astype(int)\n",
    "dataset['doc_id'] = dataset['doc_id'].astype('string')\n",
    "dataset['input_file'] = dataset['input_file'].astype('string')"
   ]
  },
  {
   "cell_type": "code",
   "execution_count": 611,
   "id": "2331ddb0",
   "metadata": {},
   "outputs": [
    {
     "name": "stdout",
     "output_type": "stream",
     "text": [
      "<class 'pandas.core.frame.DataFrame'>\n",
      "RangeIndex: 724612 entries, 0 to 724611\n",
      "Data columns (total 5 columns):\n",
      " #   Column      Non-Null Count   Dtype  \n",
      "---  ------      --------------   -----  \n",
      " 0   query_id    724612 non-null  int64  \n",
      " 1   doc_id      724612 non-null  string \n",
      " 2   rank        724612 non-null  int64  \n",
      " 3   score       724612 non-null  float64\n",
      " 4   input_file  724612 non-null  string \n",
      "dtypes: float64(1), int64(2), string(2)\n",
      "memory usage: 27.6 MB\n"
     ]
    }
   ],
   "source": [
    "dataset.info()"
   ]
  },
  {
   "cell_type": "code",
   "execution_count": 612,
   "id": "74b75017",
   "metadata": {},
   "outputs": [
    {
     "data": {
      "text/html": [
       "<div>\n",
       "<style scoped>\n",
       "    .dataframe tbody tr th:only-of-type {\n",
       "        vertical-align: middle;\n",
       "    }\n",
       "\n",
       "    .dataframe tbody tr th {\n",
       "        vertical-align: top;\n",
       "    }\n",
       "\n",
       "    .dataframe thead th {\n",
       "        text-align: right;\n",
       "    }\n",
       "</style>\n",
       "<table border=\"1\" class=\"dataframe\">\n",
       "  <thead>\n",
       "    <tr style=\"text-align: right;\">\n",
       "      <th></th>\n",
       "      <th>query_id</th>\n",
       "      <th>doc_id</th>\n",
       "      <th>rank</th>\n",
       "      <th>score</th>\n",
       "      <th>input_file</th>\n",
       "    </tr>\n",
       "  </thead>\n",
       "  <tbody>\n",
       "    <tr>\n",
       "      <th>0</th>\n",
       "      <td>401</td>\n",
       "      <td>FBIS4-18182</td>\n",
       "      <td>0</td>\n",
       "      <td>3.590320</td>\n",
       "      <td>ok8amxc</td>\n",
       "    </tr>\n",
       "    <tr>\n",
       "      <th>1</th>\n",
       "      <td>401</td>\n",
       "      <td>FBIS3-18916</td>\n",
       "      <td>1</td>\n",
       "      <td>3.449360</td>\n",
       "      <td>ok8amxc</td>\n",
       "    </tr>\n",
       "    <tr>\n",
       "      <th>2</th>\n",
       "      <td>401</td>\n",
       "      <td>FBIS3-18833</td>\n",
       "      <td>2</td>\n",
       "      <td>3.408860</td>\n",
       "      <td>ok8amxc</td>\n",
       "    </tr>\n",
       "    <tr>\n",
       "      <th>3</th>\n",
       "      <td>401</td>\n",
       "      <td>FBIS3-39117</td>\n",
       "      <td>3</td>\n",
       "      <td>3.253320</td>\n",
       "      <td>ok8amxc</td>\n",
       "    </tr>\n",
       "    <tr>\n",
       "      <th>4</th>\n",
       "      <td>401</td>\n",
       "      <td>FBIS3-17077</td>\n",
       "      <td>4</td>\n",
       "      <td>3.154300</td>\n",
       "      <td>ok8amxc</td>\n",
       "    </tr>\n",
       "    <tr>\n",
       "      <th>...</th>\n",
       "      <td>...</td>\n",
       "      <td>...</td>\n",
       "      <td>...</td>\n",
       "      <td>...</td>\n",
       "      <td>...</td>\n",
       "    </tr>\n",
       "    <tr>\n",
       "      <th>724607</th>\n",
       "      <td>450</td>\n",
       "      <td>FT933-6066</td>\n",
       "      <td>996</td>\n",
       "      <td>-0.356903</td>\n",
       "      <td>MITSLStd</td>\n",
       "    </tr>\n",
       "    <tr>\n",
       "      <th>724608</th>\n",
       "      <td>450</td>\n",
       "      <td>FBIS4-6814</td>\n",
       "      <td>997</td>\n",
       "      <td>-0.356962</td>\n",
       "      <td>MITSLStd</td>\n",
       "    </tr>\n",
       "    <tr>\n",
       "      <th>724609</th>\n",
       "      <td>450</td>\n",
       "      <td>LA121190-0027</td>\n",
       "      <td>998</td>\n",
       "      <td>-0.358896</td>\n",
       "      <td>MITSLStd</td>\n",
       "    </tr>\n",
       "    <tr>\n",
       "      <th>724610</th>\n",
       "      <td>450</td>\n",
       "      <td>FBIS4-51493</td>\n",
       "      <td>999</td>\n",
       "      <td>-0.358901</td>\n",
       "      <td>MITSLStd</td>\n",
       "    </tr>\n",
       "    <tr>\n",
       "      <th>724611</th>\n",
       "      <td>450</td>\n",
       "      <td>FBIS3-13615</td>\n",
       "      <td>1000</td>\n",
       "      <td>-0.359180</td>\n",
       "      <td>MITSLStd</td>\n",
       "    </tr>\n",
       "  </tbody>\n",
       "</table>\n",
       "<p>724612 rows × 5 columns</p>\n",
       "</div>"
      ],
      "text/plain": [
       "        query_id         doc_id  rank     score input_file\n",
       "0            401    FBIS4-18182     0  3.590320    ok8amxc\n",
       "1            401    FBIS3-18916     1  3.449360    ok8amxc\n",
       "2            401    FBIS3-18833     2  3.408860    ok8amxc\n",
       "3            401    FBIS3-39117     3  3.253320    ok8amxc\n",
       "4            401    FBIS3-17077     4  3.154300    ok8amxc\n",
       "...          ...            ...   ...       ...        ...\n",
       "724607       450     FT933-6066   996 -0.356903   MITSLStd\n",
       "724608       450     FBIS4-6814   997 -0.356962   MITSLStd\n",
       "724609       450  LA121190-0027   998 -0.358896   MITSLStd\n",
       "724610       450    FBIS4-51493   999 -0.358901   MITSLStd\n",
       "724611       450    FBIS3-13615  1000 -0.359180   MITSLStd\n",
       "\n",
       "[724612 rows x 5 columns]"
      ]
     },
     "execution_count": 612,
     "metadata": {},
     "output_type": "execute_result"
    }
   ],
   "source": [
    "dataset"
   ]
  },
  {
   "cell_type": "markdown",
   "id": "669c9272",
   "metadata": {},
   "source": [
    "#### Number of entries from each file"
   ]
  },
  {
   "cell_type": "code",
   "execution_count": 613,
   "id": "da70d0af",
   "metadata": {},
   "outputs": [
    {
     "data": {
      "text/plain": [
       "input_file\n",
       "ok8amxc              50000\n",
       "GE8MTD2              50000\n",
       "apl8c221.apl8c221    50000\n",
       "ric8dpn              50000\n",
       "UB99T                50000\n",
       "Flab8ax              50000\n",
       "mds08a2              50000\n",
       "Dm8Nbn               50000\n",
       "att99ate             50000\n",
       "MITSLStd             50000\n",
       "isa25t               49065\n",
       "iit99au1             48766\n",
       "plt8ah1              48259\n",
       "Scai8Adhoc           47182\n",
       "1.1                  31340\n",
       "Name: count, dtype: Int64"
      ]
     },
     "execution_count": 613,
     "metadata": {},
     "output_type": "execute_result"
    }
   ],
   "source": [
    "dataset.input_file.value_counts()"
   ]
  },
  {
   "cell_type": "markdown",
   "id": "9aed572c",
   "metadata": {},
   "source": [
    "### QREL file\n",
    "We explore the structure of the file here and examine some of its metadata"
   ]
  },
  {
   "cell_type": "markdown",
   "id": "91b274af",
   "metadata": {},
   "source": [
    "We don't need the placeholder so we're getting rid of that"
   ]
  },
  {
   "cell_type": "code",
   "execution_count": 614,
   "id": "f464a105",
   "metadata": {},
   "outputs": [
    {
     "data": {
      "text/html": [
       "<div>\n",
       "<style scoped>\n",
       "    .dataframe tbody tr th:only-of-type {\n",
       "        vertical-align: middle;\n",
       "    }\n",
       "\n",
       "    .dataframe tbody tr th {\n",
       "        vertical-align: top;\n",
       "    }\n",
       "\n",
       "    .dataframe thead th {\n",
       "        text-align: right;\n",
       "    }\n",
       "</style>\n",
       "<table border=\"1\" class=\"dataframe\">\n",
       "  <thead>\n",
       "    <tr style=\"text-align: right;\">\n",
       "      <th></th>\n",
       "      <th>query_id</th>\n",
       "      <th>doc_id</th>\n",
       "      <th>relevance</th>\n",
       "    </tr>\n",
       "  </thead>\n",
       "  <tbody>\n",
       "    <tr>\n",
       "      <th>0</th>\n",
       "      <td>401</td>\n",
       "      <td>FBIS3-10009</td>\n",
       "      <td>0</td>\n",
       "    </tr>\n",
       "    <tr>\n",
       "      <th>1</th>\n",
       "      <td>401</td>\n",
       "      <td>FBIS3-10059</td>\n",
       "      <td>0</td>\n",
       "    </tr>\n",
       "    <tr>\n",
       "      <th>2</th>\n",
       "      <td>401</td>\n",
       "      <td>FBIS3-10142</td>\n",
       "      <td>0</td>\n",
       "    </tr>\n",
       "    <tr>\n",
       "      <th>3</th>\n",
       "      <td>401</td>\n",
       "      <td>FBIS3-1026</td>\n",
       "      <td>0</td>\n",
       "    </tr>\n",
       "    <tr>\n",
       "      <th>4</th>\n",
       "      <td>401</td>\n",
       "      <td>FBIS3-10502</td>\n",
       "      <td>0</td>\n",
       "    </tr>\n",
       "    <tr>\n",
       "      <th>...</th>\n",
       "      <td>...</td>\n",
       "      <td>...</td>\n",
       "      <td>...</td>\n",
       "    </tr>\n",
       "    <tr>\n",
       "      <th>86825</th>\n",
       "      <td>450</td>\n",
       "      <td>LA123090-0138</td>\n",
       "      <td>0</td>\n",
       "    </tr>\n",
       "    <tr>\n",
       "      <th>86826</th>\n",
       "      <td>450</td>\n",
       "      <td>LA123090-0146</td>\n",
       "      <td>0</td>\n",
       "    </tr>\n",
       "    <tr>\n",
       "      <th>86827</th>\n",
       "      <td>450</td>\n",
       "      <td>LA123090-0176</td>\n",
       "      <td>0</td>\n",
       "    </tr>\n",
       "    <tr>\n",
       "      <th>86828</th>\n",
       "      <td>450</td>\n",
       "      <td>LA123090-0195</td>\n",
       "      <td>0</td>\n",
       "    </tr>\n",
       "    <tr>\n",
       "      <th>86829</th>\n",
       "      <td>450</td>\n",
       "      <td>LA123190-0061</td>\n",
       "      <td>0</td>\n",
       "    </tr>\n",
       "  </tbody>\n",
       "</table>\n",
       "<p>86830 rows × 3 columns</p>\n",
       "</div>"
      ],
      "text/plain": [
       "       query_id         doc_id  relevance\n",
       "0           401    FBIS3-10009          0\n",
       "1           401    FBIS3-10059          0\n",
       "2           401    FBIS3-10142          0\n",
       "3           401     FBIS3-1026          0\n",
       "4           401    FBIS3-10502          0\n",
       "...         ...            ...        ...\n",
       "86825       450  LA123090-0138          0\n",
       "86826       450  LA123090-0146          0\n",
       "86827       450  LA123090-0176          0\n",
       "86828       450  LA123090-0195          0\n",
       "86829       450  LA123190-0061          0\n",
       "\n",
       "[86830 rows x 3 columns]"
      ]
     },
     "execution_count": 614,
     "metadata": {},
     "output_type": "execute_result"
    }
   ],
   "source": [
    "qrel.drop(columns=\"placeholder\", inplace=True)\n",
    "qrel"
   ]
  },
  {
   "cell_type": "code",
   "execution_count": 615,
   "id": "de3cb598",
   "metadata": {},
   "outputs": [
    {
     "data": {
      "text/plain": [
       "relevance\n",
       "0    82102\n",
       "1     4728\n",
       "Name: count, dtype: int64"
      ]
     },
     "execution_count": 615,
     "metadata": {},
     "output_type": "execute_result"
    }
   ],
   "source": [
    "qrel.relevance.value_counts()"
   ]
  },
  {
   "cell_type": "markdown",
   "id": "baa894ac",
   "metadata": {},
   "source": [
    "This shows that the relevance column only has two possible values: 0s and 1s - with 0s representing an irrelevant document and vice versa with 1s"
   ]
  },
  {
   "cell_type": "markdown",
   "id": "2ee0ae97",
   "metadata": {},
   "source": [
    "### Utility functions\n",
    "Just a few reusable functions that help to speed up the process of analysis"
   ]
  },
  {
   "cell_type": "markdown",
   "id": "d6aff46b",
   "metadata": {},
   "source": [
    "#### Get unique topics"
   ]
  },
  {
   "cell_type": "code",
   "execution_count": 616,
   "id": "67190d94",
   "metadata": {},
   "outputs": [],
   "source": [
    "# @input dataset: DataFrame = aggregated data set\n",
    "# @input input_file: string = name of run\n",
    "#\n",
    "# Returns a list of unique queries in an input file\n",
    "def get_unique_topics(dataset, input_file, verbose = False):\n",
    "  query_rows = dataset[dataset['input_file'] == input_file]\n",
    "  unique_queries_list = query_rows['query_id'].unique()\n",
    "\n",
    "  if verbose:\n",
    "    print(f\"There are {len(unique_queries_list)} unique topics\")\n",
    "    \n",
    "  return unique_queries_list"
   ]
  },
  {
   "cell_type": "markdown",
   "id": "dcbc1486",
   "metadata": {},
   "source": [
    "#### Get unique input files"
   ]
  },
  {
   "cell_type": "code",
   "execution_count": 617,
   "id": "4bb5e6e5",
   "metadata": {},
   "outputs": [],
   "source": [
    "# @input none\n",
    "#\n",
    "# Returns a list of all unique topics for an input file\n",
    "def get_input_files():\n",
    "  unique_input_files = os.listdir(input_files_folder_path)\n",
    "\n",
    "  for index, input_file in enumerate(unique_input_files):\n",
    "    unique_input_files[index] = str(unique_input_files[index]).replace('input.', '').strip()\n",
    "  \n",
    "  return unique_input_files"
   ]
  },
  {
   "cell_type": "markdown",
   "id": "160ed20e",
   "metadata": {},
   "source": [
    "## Result & Analysis\n",
    "In this section, we calculate some important metrics to evaluate the effectiveness of each search engine's results"
   ]
  },
  {
   "cell_type": "markdown",
   "id": "43c42a06",
   "metadata": {},
   "source": [
    "### Mean Average Precision (MAP)\n",
    "MAP is the mean of average precisions (APs) across multiple queries. So, in order to calculate that, we would need to calculate the APs of the queries in a single input file. The formula for average precision is:\n",
    "\n",
    "> Average Precision (AP) = 1 / (N) * ( sum of (P(k) * rel(k)) )\n",
    "\n",
    "where N = total number of relevant documents, P(k) is the precision at rank k, and rel(k) = 1 if the document is relevant and 0 otherwise\n",
    "\n",
    "For instance, take the table below which is a list of documents returned for query A:\n",
    "\n",
    "| Rank | Doc ID       | Relevance |\n",
    "|------|--------------|-----------|\n",
    "| 1    | FBIS4-20472  | 1         |\n",
    "| 2    | FBIS4-68893  | 0         |\n",
    "| 3    | FR941117...  | 1         |\n",
    "| 4    | FBIS3-37947  | 0         |\n",
    "| 5    | FBIS4-29     | 1         |\n",
    "\n",
    "Then:\n",
    "\n",
    "At rank 1: Precision = 1/1 = 1.0\n",
    "\n",
    "At rank 3: Precision = 2/3 ≈ 0.667\n",
    "\n",
    "At rank 5: Precision = 3/5 = 0.6\n",
    "\n",
    "___\n",
    "\n",
    "With that being said, let's modify our dataset by joining in the relevance judgment file"
   ]
  },
  {
   "cell_type": "code",
   "execution_count": 618,
   "id": "ed04b5ae",
   "metadata": {},
   "outputs": [
    {
     "data": {
      "text/html": [
       "<div>\n",
       "<style scoped>\n",
       "    .dataframe tbody tr th:only-of-type {\n",
       "        vertical-align: middle;\n",
       "    }\n",
       "\n",
       "    .dataframe tbody tr th {\n",
       "        vertical-align: top;\n",
       "    }\n",
       "\n",
       "    .dataframe thead th {\n",
       "        text-align: right;\n",
       "    }\n",
       "</style>\n",
       "<table border=\"1\" class=\"dataframe\">\n",
       "  <thead>\n",
       "    <tr style=\"text-align: right;\">\n",
       "      <th></th>\n",
       "      <th>query_id</th>\n",
       "      <th>doc_id</th>\n",
       "      <th>relevance</th>\n",
       "    </tr>\n",
       "  </thead>\n",
       "  <tbody>\n",
       "    <tr>\n",
       "      <th>0</th>\n",
       "      <td>401</td>\n",
       "      <td>FBIS3-10009</td>\n",
       "      <td>0</td>\n",
       "    </tr>\n",
       "    <tr>\n",
       "      <th>1</th>\n",
       "      <td>401</td>\n",
       "      <td>FBIS3-10059</td>\n",
       "      <td>0</td>\n",
       "    </tr>\n",
       "    <tr>\n",
       "      <th>2</th>\n",
       "      <td>401</td>\n",
       "      <td>FBIS3-10142</td>\n",
       "      <td>0</td>\n",
       "    </tr>\n",
       "    <tr>\n",
       "      <th>3</th>\n",
       "      <td>401</td>\n",
       "      <td>FBIS3-1026</td>\n",
       "      <td>0</td>\n",
       "    </tr>\n",
       "    <tr>\n",
       "      <th>4</th>\n",
       "      <td>401</td>\n",
       "      <td>FBIS3-10502</td>\n",
       "      <td>0</td>\n",
       "    </tr>\n",
       "  </tbody>\n",
       "</table>\n",
       "</div>"
      ],
      "text/plain": [
       "   query_id       doc_id  relevance\n",
       "0       401  FBIS3-10009          0\n",
       "1       401  FBIS3-10059          0\n",
       "2       401  FBIS3-10142          0\n",
       "3       401   FBIS3-1026          0\n",
       "4       401  FBIS3-10502          0"
      ]
     },
     "execution_count": 618,
     "metadata": {},
     "output_type": "execute_result"
    }
   ],
   "source": [
    "qrel.head() # as a recap, this is how the QREL file looks like"
   ]
  },
  {
   "cell_type": "code",
   "execution_count": 619,
   "id": "86f08bef",
   "metadata": {},
   "outputs": [
    {
     "data": {
      "text/html": [
       "<div>\n",
       "<style scoped>\n",
       "    .dataframe tbody tr th:only-of-type {\n",
       "        vertical-align: middle;\n",
       "    }\n",
       "\n",
       "    .dataframe tbody tr th {\n",
       "        vertical-align: top;\n",
       "    }\n",
       "\n",
       "    .dataframe thead th {\n",
       "        text-align: right;\n",
       "    }\n",
       "</style>\n",
       "<table border=\"1\" class=\"dataframe\">\n",
       "  <thead>\n",
       "    <tr style=\"text-align: right;\">\n",
       "      <th></th>\n",
       "      <th>query_id</th>\n",
       "      <th>doc_id</th>\n",
       "      <th>rank</th>\n",
       "      <th>score</th>\n",
       "      <th>input_file</th>\n",
       "      <th>relevance</th>\n",
       "    </tr>\n",
       "  </thead>\n",
       "  <tbody>\n",
       "    <tr>\n",
       "      <th>0</th>\n",
       "      <td>401</td>\n",
       "      <td>FBIS4-18182</td>\n",
       "      <td>0</td>\n",
       "      <td>3.590320</td>\n",
       "      <td>ok8amxc</td>\n",
       "      <td>0.0</td>\n",
       "    </tr>\n",
       "    <tr>\n",
       "      <th>1</th>\n",
       "      <td>401</td>\n",
       "      <td>FBIS3-18916</td>\n",
       "      <td>1</td>\n",
       "      <td>3.449360</td>\n",
       "      <td>ok8amxc</td>\n",
       "      <td>0.0</td>\n",
       "    </tr>\n",
       "    <tr>\n",
       "      <th>2</th>\n",
       "      <td>401</td>\n",
       "      <td>FBIS3-18833</td>\n",
       "      <td>2</td>\n",
       "      <td>3.408860</td>\n",
       "      <td>ok8amxc</td>\n",
       "      <td>0.0</td>\n",
       "    </tr>\n",
       "    <tr>\n",
       "      <th>3</th>\n",
       "      <td>401</td>\n",
       "      <td>FBIS3-39117</td>\n",
       "      <td>3</td>\n",
       "      <td>3.253320</td>\n",
       "      <td>ok8amxc</td>\n",
       "      <td>0.0</td>\n",
       "    </tr>\n",
       "    <tr>\n",
       "      <th>4</th>\n",
       "      <td>401</td>\n",
       "      <td>FBIS3-17077</td>\n",
       "      <td>4</td>\n",
       "      <td>3.154300</td>\n",
       "      <td>ok8amxc</td>\n",
       "      <td>0.0</td>\n",
       "    </tr>\n",
       "    <tr>\n",
       "      <th>...</th>\n",
       "      <td>...</td>\n",
       "      <td>...</td>\n",
       "      <td>...</td>\n",
       "      <td>...</td>\n",
       "      <td>...</td>\n",
       "      <td>...</td>\n",
       "    </tr>\n",
       "    <tr>\n",
       "      <th>724607</th>\n",
       "      <td>450</td>\n",
       "      <td>FT933-6066</td>\n",
       "      <td>996</td>\n",
       "      <td>-0.356903</td>\n",
       "      <td>MITSLStd</td>\n",
       "      <td>NaN</td>\n",
       "    </tr>\n",
       "    <tr>\n",
       "      <th>724608</th>\n",
       "      <td>450</td>\n",
       "      <td>FBIS4-6814</td>\n",
       "      <td>997</td>\n",
       "      <td>-0.356962</td>\n",
       "      <td>MITSLStd</td>\n",
       "      <td>NaN</td>\n",
       "    </tr>\n",
       "    <tr>\n",
       "      <th>724609</th>\n",
       "      <td>450</td>\n",
       "      <td>LA121190-0027</td>\n",
       "      <td>998</td>\n",
       "      <td>-0.358896</td>\n",
       "      <td>MITSLStd</td>\n",
       "      <td>0.0</td>\n",
       "    </tr>\n",
       "    <tr>\n",
       "      <th>724610</th>\n",
       "      <td>450</td>\n",
       "      <td>FBIS4-51493</td>\n",
       "      <td>999</td>\n",
       "      <td>-0.358901</td>\n",
       "      <td>MITSLStd</td>\n",
       "      <td>NaN</td>\n",
       "    </tr>\n",
       "    <tr>\n",
       "      <th>724611</th>\n",
       "      <td>450</td>\n",
       "      <td>FBIS3-13615</td>\n",
       "      <td>1000</td>\n",
       "      <td>-0.359180</td>\n",
       "      <td>MITSLStd</td>\n",
       "      <td>NaN</td>\n",
       "    </tr>\n",
       "  </tbody>\n",
       "</table>\n",
       "<p>724612 rows × 6 columns</p>\n",
       "</div>"
      ],
      "text/plain": [
       "        query_id         doc_id  rank     score input_file  relevance\n",
       "0            401    FBIS4-18182     0  3.590320    ok8amxc        0.0\n",
       "1            401    FBIS3-18916     1  3.449360    ok8amxc        0.0\n",
       "2            401    FBIS3-18833     2  3.408860    ok8amxc        0.0\n",
       "3            401    FBIS3-39117     3  3.253320    ok8amxc        0.0\n",
       "4            401    FBIS3-17077     4  3.154300    ok8amxc        0.0\n",
       "...          ...            ...   ...       ...        ...        ...\n",
       "724607       450     FT933-6066   996 -0.356903   MITSLStd        NaN\n",
       "724608       450     FBIS4-6814   997 -0.356962   MITSLStd        NaN\n",
       "724609       450  LA121190-0027   998 -0.358896   MITSLStd        0.0\n",
       "724610       450    FBIS4-51493   999 -0.358901   MITSLStd        NaN\n",
       "724611       450    FBIS3-13615  1000 -0.359180   MITSLStd        NaN\n",
       "\n",
       "[724612 rows x 6 columns]"
      ]
     },
     "execution_count": 619,
     "metadata": {},
     "output_type": "execute_result"
    }
   ],
   "source": [
    "dataset_merged = pd.merge(\n",
    "  dataset,\n",
    "  qrel[['query_id', 'doc_id', 'relevance']],\n",
    "  on=['query_id', 'doc_id'],\n",
    "  how='left'\n",
    ")\n",
    "dataset_merged"
   ]
  },
  {
   "cell_type": "markdown",
   "id": "0558a511",
   "metadata": {},
   "source": [
    "Apparently there are some null values for relevance. Let's find out how many are null"
   ]
  },
  {
   "cell_type": "code",
   "execution_count": 620,
   "id": "7eec43af",
   "metadata": {},
   "outputs": [
    {
     "data": {
      "text/plain": [
       "relevance\n",
       "0.0    272717\n",
       "1.0     35722\n",
       "Name: count, dtype: int64"
      ]
     },
     "execution_count": 620,
     "metadata": {},
     "output_type": "execute_result"
    }
   ],
   "source": [
    "dataset_merged.relevance.value_counts()"
   ]
  },
  {
   "cell_type": "code",
   "execution_count": 621,
   "id": "21118bc8",
   "metadata": {},
   "outputs": [
    {
     "name": "stdout",
     "output_type": "stream",
     "text": [
      "<class 'pandas.core.frame.DataFrame'>\n",
      "RangeIndex: 724612 entries, 0 to 724611\n",
      "Data columns (total 6 columns):\n",
      " #   Column      Non-Null Count   Dtype  \n",
      "---  ------      --------------   -----  \n",
      " 0   query_id    724612 non-null  int64  \n",
      " 1   doc_id      724612 non-null  object \n",
      " 2   rank        724612 non-null  int64  \n",
      " 3   score       724612 non-null  float64\n",
      " 4   input_file  724612 non-null  string \n",
      " 5   relevance   308439 non-null  float64\n",
      "dtypes: float64(2), int64(2), object(1), string(1)\n",
      "memory usage: 33.2+ MB\n"
     ]
    }
   ],
   "source": [
    "dataset_merged.info()"
   ]
  },
  {
   "cell_type": "markdown",
   "id": "2a1672a2",
   "metadata": {},
   "source": [
    "This signifies that there are only about 300,000 entries with non-null values. Let's fill up the null values with 0, that is assuming that they are not relevant as they are not judged"
   ]
  },
  {
   "cell_type": "code",
   "execution_count": 622,
   "id": "3c6daa27",
   "metadata": {},
   "outputs": [
    {
     "name": "stdout",
     "output_type": "stream",
     "text": [
      "<class 'pandas.core.frame.DataFrame'>\n",
      "RangeIndex: 724612 entries, 0 to 724611\n",
      "Data columns (total 6 columns):\n",
      " #   Column      Non-Null Count   Dtype  \n",
      "---  ------      --------------   -----  \n",
      " 0   query_id    724612 non-null  int64  \n",
      " 1   doc_id      724612 non-null  object \n",
      " 2   rank        724612 non-null  int64  \n",
      " 3   score       724612 non-null  float64\n",
      " 4   input_file  724612 non-null  string \n",
      " 5   relevance   724612 non-null  int64  \n",
      "dtypes: float64(1), int64(3), object(1), string(1)\n",
      "memory usage: 33.2+ MB\n"
     ]
    }
   ],
   "source": [
    "dataset_merged['relevance'] = dataset_merged['relevance'].fillna(0).astype(int)\n",
    "dataset_merged['relevance'] = dataset_merged['relevance'].astype(int)\n",
    "dataset_merged.info()"
   ]
  },
  {
   "cell_type": "code",
   "execution_count": 623,
   "id": "687a68ed",
   "metadata": {},
   "outputs": [
    {
     "data": {
      "text/plain": [
       "relevance\n",
       "0    688890\n",
       "1     35722\n",
       "Name: count, dtype: int64"
      ]
     },
     "execution_count": 623,
     "metadata": {},
     "output_type": "execute_result"
    }
   ],
   "source": [
    "dataset_merged.relevance.value_counts()"
   ]
  },
  {
   "cell_type": "markdown",
   "id": "1adaa1e1",
   "metadata": {},
   "source": [
    "#### Average Precision Function"
   ]
  },
  {
   "cell_type": "code",
   "execution_count": 624,
   "id": "acc2aa83",
   "metadata": {},
   "outputs": [],
   "source": [
    "# Calculates the average precision of a query\n",
    "# query = int, input_file = string\n",
    "def average_precision(query_id, input_file, verbose = False):\n",
    "  # Collect all the rows for a query\n",
    "  rows = dataset_merged[\n",
    "    (dataset_merged['query_id'] == query_id) & \n",
    "    (dataset_merged['input_file'] == input_file)\n",
    "  ]\n",
    "\n",
    "  # Calculate precision for all documents in that query\n",
    "  relevance_values = rows.sort_values('rank')['relevance'].values\n",
    "  precisions = []\n",
    "  number_of_related_docs = 0\n",
    "\n",
    "  for index, relevance_value in enumerate(relevance_values, start=1): # start at index 1 to skip the header\n",
    "    doc_is_relevant = (relevance_value == 1)\n",
    "    if doc_is_relevant:\n",
    "      number_of_related_docs += 1\n",
    "      precisions.append(\n",
    "        number_of_related_docs / index # formula for precision\n",
    "      )\n",
    "      \n",
    "  if verbose:\n",
    "    print(precisions)\n",
    "    print(f\"There are {len(precisions)} relevant documents for query {query_id}\")\n",
    "\n",
    "  # Calculate AP\n",
    "  return sum(precisions) / number_of_related_docs if number_of_related_docs > 0 else 0.0"
   ]
  },
  {
   "cell_type": "code",
   "execution_count": 625,
   "id": "185590e9",
   "metadata": {},
   "outputs": [
    {
     "data": {
      "text/plain": [
       "0.017094906463985617"
      ]
     },
     "execution_count": 625,
     "metadata": {},
     "output_type": "execute_result"
    }
   ],
   "source": [
    "average_precision(401, '1.1')"
   ]
  },
  {
   "cell_type": "markdown",
   "id": "a8caa864",
   "metadata": {},
   "source": [
    "#### Mean Average Precision (MAP) Function"
   ]
  },
  {
   "cell_type": "code",
   "execution_count": null,
   "id": "eb74d3c0",
   "metadata": {},
   "outputs": [],
   "source": [
    "# input_file: string = name of the input file\n",
    "def mean_average_precision(input_file, verbose = False):\n",
    "  # Fetch the number of unique query_ids\n",
    "  unique_queries_list = get_unique_topics(dataset_merged, input_file, verbose)\n",
    "  \n",
    "  # Iterate over all query_ids using average_precision function\n",
    "  sum_of_average_precisions = 0.0\n",
    "\n",
    "  for query_id in unique_queries_list:\n",
    "    sum_of_average_precisions += average_precision(query_id, input_file, verbose)\n",
    "\n",
    "  mean_average_precision = sum_of_average_precisions / len(unique_queries_list)\n",
    "\n",
    "  if verbose:\n",
    "    print(f\"The mean average precision for {input_file} is {mean_average_precision}\")\n",
    "\n",
    "  return mean_average_precision"
   ]
  },
  {
   "cell_type": "code",
   "execution_count": 627,
   "id": "4df60eba",
   "metadata": {},
   "outputs": [
    {
     "data": {
      "text/plain": [
       "0.02659463727377825"
      ]
     },
     "execution_count": 627,
     "metadata": {},
     "output_type": "execute_result"
    }
   ],
   "source": [
    "mean_average_precision('1.1')"
   ]
  },
  {
   "cell_type": "markdown",
   "id": "bc39c095",
   "metadata": {},
   "source": [
    "Now that we have the mean_average_precision calculation done, let's generate a table to get a better view"
   ]
  },
  {
   "cell_type": "code",
   "execution_count": 636,
   "id": "28cab9e7",
   "metadata": {},
   "outputs": [
    {
     "data": {
      "text/html": [
       "<div>\n",
       "<style scoped>\n",
       "    .dataframe tbody tr th:only-of-type {\n",
       "        vertical-align: middle;\n",
       "    }\n",
       "\n",
       "    .dataframe tbody tr th {\n",
       "        vertical-align: top;\n",
       "    }\n",
       "\n",
       "    .dataframe thead th {\n",
       "        text-align: right;\n",
       "    }\n",
       "</style>\n",
       "<table border=\"1\" class=\"dataframe\">\n",
       "  <thead>\n",
       "    <tr style=\"text-align: right;\">\n",
       "      <th></th>\n",
       "      <th>input_file</th>\n",
       "      <th>mean_average_precision</th>\n",
       "    </tr>\n",
       "  </thead>\n",
       "  <tbody>\n",
       "    <tr>\n",
       "      <th>1</th>\n",
       "      <td>ok8amxc</td>\n",
       "      <td>0.370851</td>\n",
       "    </tr>\n",
       "    <tr>\n",
       "      <th>2</th>\n",
       "      <td>plt8ah1</td>\n",
       "      <td>0.233204</td>\n",
       "    </tr>\n",
       "    <tr>\n",
       "      <th>3</th>\n",
       "      <td>GE8MTD2</td>\n",
       "      <td>0.385602</td>\n",
       "    </tr>\n",
       "    <tr>\n",
       "      <th>4</th>\n",
       "      <td>apl8c221.apl8c221</td>\n",
       "      <td>0.355809</td>\n",
       "    </tr>\n",
       "    <tr>\n",
       "      <th>5</th>\n",
       "      <td>Scai8Adhoc</td>\n",
       "      <td>0.214368</td>\n",
       "    </tr>\n",
       "    <tr>\n",
       "      <th>6</th>\n",
       "      <td>isa25t</td>\n",
       "      <td>0.096457</td>\n",
       "    </tr>\n",
       "    <tr>\n",
       "      <th>7</th>\n",
       "      <td>ric8dpn</td>\n",
       "      <td>0.325525</td>\n",
       "    </tr>\n",
       "    <tr>\n",
       "      <th>8</th>\n",
       "      <td>UB99T</td>\n",
       "      <td>0.117923</td>\n",
       "    </tr>\n",
       "    <tr>\n",
       "      <th>9</th>\n",
       "      <td>1.1</td>\n",
       "      <td>0.026595</td>\n",
       "    </tr>\n",
       "    <tr>\n",
       "      <th>10</th>\n",
       "      <td>Flab8ax</td>\n",
       "      <td>0.371684</td>\n",
       "    </tr>\n",
       "    <tr>\n",
       "      <th>11</th>\n",
       "      <td>mds08a2</td>\n",
       "      <td>0.291730</td>\n",
       "    </tr>\n",
       "    <tr>\n",
       "      <th>12</th>\n",
       "      <td>iit99au1</td>\n",
       "      <td>0.298487</td>\n",
       "    </tr>\n",
       "    <tr>\n",
       "      <th>13</th>\n",
       "      <td>Dm8Nbn</td>\n",
       "      <td>0.131811</td>\n",
       "    </tr>\n",
       "    <tr>\n",
       "      <th>14</th>\n",
       "      <td>att99ate</td>\n",
       "      <td>0.334336</td>\n",
       "    </tr>\n",
       "    <tr>\n",
       "      <th>15</th>\n",
       "      <td>MITSLStd</td>\n",
       "      <td>0.365402</td>\n",
       "    </tr>\n",
       "  </tbody>\n",
       "</table>\n",
       "</div>"
      ],
      "text/plain": [
       "           input_file  mean_average_precision\n",
       "1             ok8amxc                0.370851\n",
       "2             plt8ah1                0.233204\n",
       "3             GE8MTD2                0.385602\n",
       "4   apl8c221.apl8c221                0.355809\n",
       "5          Scai8Adhoc                0.214368\n",
       "6              isa25t                0.096457\n",
       "7             ric8dpn                0.325525\n",
       "8               UB99T                0.117923\n",
       "9                 1.1                0.026595\n",
       "10            Flab8ax                0.371684\n",
       "11            mds08a2                0.291730\n",
       "12           iit99au1                0.298487\n",
       "13             Dm8Nbn                0.131811\n",
       "14           att99ate                0.334336\n",
       "15           MITSLStd                0.365402"
      ]
     },
     "execution_count": 636,
     "metadata": {},
     "output_type": "execute_result"
    }
   ],
   "source": [
    "mean_average_precision_table = pd.DataFrame({\n",
    "  'input_file': [], 'mean_average_precision': []\n",
    "})\n",
    "\n",
    "# Calculate MAP iteratively for all runs\n",
    "for input_file in get_input_files():\n",
    "  input_file_map = mean_average_precision(input_file)\n",
    "  row = pd.DataFrame({ 'input_file': [input_file], 'mean_average_precision': [input_file_map]})\n",
    "\n",
    "  mean_average_precision_table = pd.concat([mean_average_precision_table, row], ignore_index=True)\n",
    "\n",
    "mean_average_precision_table.index = mean_average_precision_table.index + 1 # just so the first file appears as number 1 on the list\n",
    "\n",
    "mean_average_precision_table"
   ]
  },
  {
   "cell_type": "markdown",
   "id": "d8caea31",
   "metadata": {},
   "source": [
    "A bar graph would help to see which runs performed the best"
   ]
  },
  {
   "cell_type": "code",
   "execution_count": 647,
   "id": "7dd64e08",
   "metadata": {},
   "outputs": [
    {
     "data": {
      "image/png": "[encoded data removed]",
      "text/plain": [
       "<Figure size 1600x600 with 1 Axes>"
      ]
     },
     "metadata": {},
     "output_type": "display_data"
    }
   ],
   "source": [
    "map_table_asc = mean_average_precision_table.sort_values('mean_average_precision')\n",
    "\n",
    "plt.figure(figsize=[16, 6])\n",
    "\n",
    "plt.bar(\n",
    "  map_table_asc['input_file'], # x-axis values\n",
    "  map_table_asc['mean_average_precision'], # y-axis values\n",
    "  color='skyblue'\n",
    ")\n",
    "\n",
    "plt.xlabel('Input file')\n",
    "plt.ylabel('MAP')\n",
    "plt.title('Mean Average Precision (MAP) by Input File')\n",
    "plt.xticks(rotation=45, ha='right')  # Rotate x-axis labels for readability\n",
    "\n",
    "# Add values above bars\n",
    "for i, v in enumerate(map_table_asc['mean_average_precision']):\n",
    "    plt.text(i, v + 0.005, f\"{v:.4f}\", ha='center', fontsize=9)\n",
    "\n",
    "plt.tight_layout()\n",
    "plt.show()"
   ]
  },
  {
   "cell_type": "markdown",
   "id": "0dcb3e31",
   "metadata": {},
   "source": [
    "### Mean Reciprocal Rank (MRR)\n",
    "\n",
    "MRR measures how well a information retrieval system ranks its first relevant document for each query. Below is the formula:\n",
    "\n",
    "> MRR = (1 / |Q|) * (sum of (1 / ith-rank) from i = 1 to |Q|)\n",
    "\n",
    "where |Q| = total number of queries, ith-rank = first relevant document for the ith query\n",
    "\n",
    "\n",
    "To put it simply:\n",
    "1. Find the first document that is relevant for a query\n",
    "2. Compute the reciprocal of the rank for that query, i.e. (1 / rank)\n",
    "3. Then, find the average of all reciprocal ranks for all queries\n",
    "4. The mean of the average refers to the MRR value for an input file"
   ]
  },
  {
   "cell_type": "markdown",
   "id": "ed2ad8e6",
   "metadata": {},
   "source": [
    "#### Average Reciprocal Rank (ARR)"
   ]
  },
  {
   "cell_type": "code",
   "execution_count": null,
   "id": "1a4ed03b",
   "metadata": {},
   "outputs": [],
   "source": []
  },
  {
   "cell_type": "markdown",
   "id": "d1dda031",
   "metadata": {},
   "source": [
    "#### Mean Reciprocal Rank (MRR)"
   ]
  },
  {
   "cell_type": "code",
   "execution_count": null,
   "id": "a314e1aa",
   "metadata": {},
   "outputs": [],
   "source": []
  },
  {
   "cell_type": "markdown",
   "id": "c0c14de9",
   "metadata": {},
   "source": [
    "## Conclusion"
   ]
  }
 ],
 "metadata": {
  "kernelspec": {
   "display_name": "Python 3",
   "language": "python",
   "name": "python3"
  },
  "language_info": {
   "codemirror_mode": {
    "name": "ipython",
    "version": 3
   },
   "file_extension": ".py",
   "mimetype": "text/x-python",
   "name": "python",
   "nbconvert_exporter": "python",
   "pygments_lexer": "ipython3",
   "version": "3.13.3"
  }
 },
 "nbformat": 4,
 "nbformat_minor": 5
}
